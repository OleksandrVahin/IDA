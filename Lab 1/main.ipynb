{
 "cells": [
  {
   "cell_type": "markdown",
   "metadata": {},
   "source": [
    "# Лабораторна №1\n",
    "## Вагін Олександр КА-01"
   ]
  },
  {
   "cell_type": "markdown",
   "metadata": {},
   "source": []
  },
  {
   "cell_type": "markdown",
   "metadata": {},
   "source": [
    "Імпортуємо бібліотеку NumPy"
   ]
  },
  {
   "cell_type": "code",
   "execution_count": 1,
   "metadata": {
    "pycharm": {
     "name": "#%%\n"
    }
   },
   "outputs": [],
   "source": [
    "import numpy as np"
   ]
  },
  {
   "cell_type": "markdown",
   "metadata": {},
   "source": [
    "Створюємо масив використовуючі випадкові значення від 0 до 10"
   ]
  },
  {
   "cell_type": "code",
   "execution_count": 2,
   "metadata": {
    "pycharm": {
     "name": "#%%\n"
    }
   },
   "outputs": [
    {
     "data": {
      "text/plain": [
       "array([[9, 6, 4, 9],\n",
       "       [5, 5, 5, 2],\n",
       "       [4, 6, 2, 2],\n",
       "       [8, 6, 4, 3],\n",
       "       [8, 8, 3, 1],\n",
       "       [8, 8, 0, 4],\n",
       "       [5, 3, 2, 5],\n",
       "       [4, 0, 3, 1],\n",
       "       [8, 7, 0, 7],\n",
       "       [5, 7, 0, 7],\n",
       "       [8, 3, 9, 6],\n",
       "       [5, 6, 8, 4],\n",
       "       [8, 9, 8, 7],\n",
       "       [6, 1, 2, 2],\n",
       "       [2, 7, 8, 1],\n",
       "       [1, 8, 8, 1],\n",
       "       [9, 3, 5, 1],\n",
       "       [8, 0, 8, 9],\n",
       "       [4, 3, 5, 7],\n",
       "       [6, 0, 9, 9],\n",
       "       [3, 4, 6, 5],\n",
       "       [2, 8, 3, 5],\n",
       "       [8, 9, 5, 0],\n",
       "       [8, 9, 8, 4],\n",
       "       [4, 1, 9, 0],\n",
       "       [7, 9, 7, 2],\n",
       "       [7, 7, 1, 9],\n",
       "       [3, 7, 9, 3],\n",
       "       [3, 6, 4, 0],\n",
       "       [1, 9, 5, 2],\n",
       "       [6, 9, 6, 1],\n",
       "       [7, 5, 9, 2],\n",
       "       [8, 5, 8, 0],\n",
       "       [9, 2, 8, 1],\n",
       "       [1, 0, 4, 0],\n",
       "       [1, 4, 5, 6],\n",
       "       [3, 3, 6, 7],\n",
       "       [2, 9, 1, 8],\n",
       "       [1, 3, 9, 4],\n",
       "       [0, 8, 5, 8],\n",
       "       [3, 7, 8, 4],\n",
       "       [8, 3, 8, 6],\n",
       "       [9, 0, 4, 5],\n",
       "       [5, 8, 4, 2],\n",
       "       [7, 3, 0, 8],\n",
       "       [6, 4, 3, 1],\n",
       "       [3, 1, 2, 4],\n",
       "       [9, 4, 8, 5],\n",
       "       [0, 4, 0, 6],\n",
       "       [3, 8, 8, 2],\n",
       "       [8, 0, 7, 3],\n",
       "       [4, 1, 4, 6],\n",
       "       [7, 2, 0, 7],\n",
       "       [7, 0, 2, 5],\n",
       "       [0, 8, 4, 6],\n",
       "       [3, 1, 3, 7],\n",
       "       [7, 0, 3, 9],\n",
       "       [0, 1, 9, 9],\n",
       "       [6, 7, 3, 1],\n",
       "       [9, 2, 9, 7],\n",
       "       [9, 0, 5, 6],\n",
       "       [2, 4, 6, 6],\n",
       "       [1, 4, 0, 8],\n",
       "       [2, 2, 4, 3],\n",
       "       [9, 4, 9, 1],\n",
       "       [4, 0, 5, 9],\n",
       "       [2, 6, 8, 0],\n",
       "       [0, 5, 2, 3],\n",
       "       [9, 7, 9, 0],\n",
       "       [3, 3, 8, 3],\n",
       "       [7, 8, 8, 4],\n",
       "       [4, 6, 3, 8],\n",
       "       [9, 0, 6, 7],\n",
       "       [4, 5, 8, 0],\n",
       "       [3, 5, 7, 1],\n",
       "       [1, 1, 2, 8],\n",
       "       [0, 8, 7, 1],\n",
       "       [8, 2, 8, 4],\n",
       "       [2, 9, 9, 6],\n",
       "       [8, 3, 7, 1],\n",
       "       [7, 8, 9, 2],\n",
       "       [8, 2, 6, 9],\n",
       "       [3, 7, 1, 3],\n",
       "       [2, 7, 3, 5],\n",
       "       [5, 1, 4, 7],\n",
       "       [9, 6, 1, 9],\n",
       "       [9, 8, 6, 9],\n",
       "       [3, 5, 3, 3],\n",
       "       [3, 2, 6, 1],\n",
       "       [5, 6, 5, 0],\n",
       "       [6, 3, 2, 7],\n",
       "       [5, 1, 3, 5],\n",
       "       [6, 0, 1, 6],\n",
       "       [9, 7, 3, 1],\n",
       "       [1, 9, 6, 5],\n",
       "       [2, 7, 8, 8],\n",
       "       [2, 6, 5, 7],\n",
       "       [7, 0, 1, 6],\n",
       "       [2, 8, 8, 4],\n",
       "       [0, 5, 1, 0]])"
      ]
     },
     "execution_count": 2,
     "metadata": {},
     "output_type": "execute_result"
    }
   ],
   "source": [
    "N = 100\n",
    "m = 4\n",
    "T = np.random.randint(10, size=(N, m))\n",
    "T"
   ]
  },
  {
   "cell_type": "markdown",
   "metadata": {
    "pycharm": {
     "name": "#%% md\n"
    }
   },
   "source": [
    "Створюємо вектор міток классів"
   ]
  },
  {
   "cell_type": "code",
   "execution_count": 3,
   "metadata": {
    "pycharm": {
     "name": "#%%\n"
    }
   },
   "outputs": [
    {
     "data": {
      "text/plain": [
       "array([1, 2, 2, 1, 1, 1, 1, 2, 1, 1, 2, 2, 0, 0, 2, 2, 2, 1, 2, 0, 2, 1,\n",
       "       0, 2, 0, 2, 0, 2, 2, 2, 2, 0, 2, 2, 2, 1, 2, 2, 2, 2, 0, 1, 1, 1,\n",
       "       2, 2, 1, 2, 0, 1, 2, 0, 1, 0, 1, 2, 1, 1, 0, 0, 0, 2, 2, 0, 0, 1,\n",
       "       1, 2, 0, 0, 0, 0, 0, 0, 0, 0, 1, 1, 2, 1, 1, 2, 1, 1, 2, 0, 2, 0,\n",
       "       1, 1, 2, 1, 2, 1, 2, 1, 0, 2, 1, 0])"
      ]
     },
     "execution_count": 3,
     "metadata": {},
     "output_type": "execute_result"
    }
   ],
   "source": [
    "number_of_clases = 3\n",
    "y = np.random.randint(number_of_clases, size=(N))\n",
    "y"
   ]
  },
  {
   "cell_type": "markdown",
   "metadata": {
    "pycharm": {
     "name": "#%% md\n"
    }
   },
   "source": [
    "p1(x_h = c_hi) - кiлькiсть прикладiв, для яких ознака xh приймає значення ch_i"
   ]
  },
  {
   "cell_type": "code",
   "execution_count": 4,
   "metadata": {
    "pycharm": {
     "name": "#%%\n"
    }
   },
   "outputs": [
    {
     "data": {
      "text/plain": [
       "array([[ 7,  8, 11, 13,  8,  8,  7, 10, 15, 13],\n",
       "       [13,  9,  7, 11,  8,  8, 10, 12, 13,  9],\n",
       "       [ 7,  7,  8, 12, 10, 11,  9,  5, 19, 12],\n",
       "       [10, 15,  9,  8,  9,  9, 11, 12,  7, 10]], dtype=int16)"
      ]
     },
     "execution_count": 4,
     "metadata": {},
     "output_type": "execute_result"
    }
   ],
   "source": [
    "p1 = np.zeros(shape=(m, 10), dtype=np.int16)\n",
    "for i in range(m):\n",
    "    for j in range(10):\n",
    "        p1[i, j] = np.count_nonzero(T[:,i] == j)\n",
    "p1"
   ]
  },
  {
   "cell_type": "code",
   "execution_count": 5,
   "metadata": {
    "pycharm": {
     "name": "#%%\n"
    }
   },
   "outputs": [
    {
     "data": {
      "text/plain": [
       "array([[[2, 1, 2, 4, 4, 0, 3, 4, 2, 6],\n",
       "        [4, 4, 2, 1, 2, 5, 3, 4, 1, 2],\n",
       "        [1, 3, 3, 3, 2, 3, 1, 1, 5, 6],\n",
       "        [5, 3, 2, 3, 2, 1, 3, 4, 2, 3]],\n",
       "\n",
       "       [[3, 1, 5, 4, 1, 5, 0, 3, 8, 3],\n",
       "        [4, 3, 3, 3, 1, 0, 4, 6, 9, 0],\n",
       "        [4, 1, 2, 6, 5, 3, 1, 2, 7, 2],\n",
       "        [2, 5, 3, 2, 4, 5, 3, 3, 1, 5]],\n",
       "\n",
       "       [[2, 6, 4, 5, 3, 3, 4, 3, 5, 4],\n",
       "        [5, 2, 2, 7, 5, 3, 3, 2, 3, 7],\n",
       "        [2, 3, 3, 3, 3, 5, 7, 2, 7, 4],\n",
       "        [3, 7, 4, 3, 3, 3, 5, 5, 4, 2]]], dtype=int16)"
      ]
     },
     "execution_count": 5,
     "metadata": {},
     "output_type": "execute_result"
    }
   ],
   "source": [
    "p2 = np.zeros(shape=(number_of_clases, m, 10), dtype=np.int16)\n",
    "for i in range(N):\n",
    "    for j in range(m):\n",
    "        p2[y[i],j,T[i,:][j]]+=1\n",
    "p2"
   ]
  },
  {
   "cell_type": "code",
   "execution_count": 6,
   "metadata": {
    "pycharm": {
     "name": "#%%\n"
    }
   },
   "outputs": [
    {
     "data": {
      "text/plain": [
       "array([[1, 2, 1, 2, 0, 1, 2, 0, 1, 0],\n",
       "       [2, 0, 1, 2, 2, 0, 1, 1, 1, 2],\n",
       "       [1, 0, 0, 1, 1, 2, 2, 1, 1, 0],\n",
       "       [0, 2, 2, 0, 1, 1, 2, 2, 2, 1]])"
      ]
     },
     "execution_count": 6,
     "metadata": {},
     "output_type": "execute_result"
    }
   ],
   "source": [
    "s = np.argmax(p2, axis=0)\n",
    "s"
   ]
  },
  {
   "cell_type": "code",
   "execution_count": 7,
   "metadata": {
    "pycharm": {
     "name": "#%%\n"
    }
   },
   "outputs": [
    {
     "data": {
      "text/plain": [
       "array([[ 4,  2,  6,  8,  4,  3,  3,  6,  7,  7],\n",
       "       [ 8,  5,  4,  4,  3,  3,  6,  6,  4,  2],\n",
       "       [ 3,  4,  5,  6,  5,  6,  2,  3, 12,  6],\n",
       "       [ 5,  8,  5,  5,  5,  4,  6,  7,  3,  5]], dtype=int16)"
      ]
     },
     "execution_count": 7,
     "metadata": {},
     "output_type": "execute_result"
    }
   ],
   "source": [
    "p3 = np.zeros(shape=(m, 10), dtype=np.int16)\n",
    "for i in range(N):\n",
    "    for j in range(m):\n",
    "        if y[i] != s[j, T[i,j]]:\n",
    "            p3[j, T[i,j]]+=1\n",
    "p3"
   ]
  },
  {
   "cell_type": "code",
   "execution_count": 8,
   "metadata": {
    "pycharm": {
     "name": "#%%\n"
    }
   },
   "outputs": [
    {
     "data": {
      "text/plain": [
       "array([[0.57142857, 0.25      , 0.54545455, 0.61538462, 0.5       ,\n",
       "        0.375     , 0.42857143, 0.6       , 0.46666667, 0.53846154],\n",
       "       [0.61538462, 0.55555556, 0.57142857, 0.36363636, 0.375     ,\n",
       "        0.375     , 0.6       , 0.5       , 0.30769231, 0.22222222],\n",
       "       [0.42857143, 0.57142857, 0.625     , 0.5       , 0.5       ,\n",
       "        0.54545455, 0.22222222, 0.6       , 0.63157895, 0.5       ],\n",
       "       [0.5       , 0.53333333, 0.55555556, 0.625     , 0.55555556,\n",
       "        0.44444444, 0.54545455, 0.58333333, 0.42857143, 0.5       ]])"
      ]
     },
     "execution_count": 8,
     "metadata": {},
     "output_type": "execute_result"
    }
   ],
   "source": [
    "er = p3/p1\n",
    "er"
   ]
  },
  {
   "cell_type": "code",
   "execution_count": 13,
   "metadata": {},
   "outputs": [
    {
     "data": {
      "text/plain": [
       "(1, 9)"
      ]
     },
     "execution_count": 13,
     "metadata": {},
     "output_type": "execute_result"
    }
   ],
   "source": [
    "np.argmin(er)//10, np.argmin(er) % 10"
   ]
  },
  {
   "cell_type": "code",
   "execution_count": null,
   "metadata": {},
   "outputs": [],
   "source": []
  }
 ],
 "metadata": {
  "kernelspec": {
   "display_name": "Python 3 (ipykernel)",
   "language": "python",
   "name": "python3"
  },
  "language_info": {
   "codemirror_mode": {
    "name": "ipython",
    "version": 3
   },
   "file_extension": ".py",
   "mimetype": "text/x-python",
   "name": "python",
   "nbconvert_exporter": "python",
   "pygments_lexer": "ipython3",
   "version": "3.9.4"
  }
 },
 "nbformat": 4,
 "nbformat_minor": 1
}
